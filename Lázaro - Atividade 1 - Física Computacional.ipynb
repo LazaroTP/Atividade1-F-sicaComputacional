{
 "cells": [
  {
   "cell_type": "markdown",
   "id": "839b460b",
   "metadata": {},
   "source": [
    "    Lázaro - Atividade 1 Física Computacional"
   ]
  },
  {
   "cell_type": "code",
   "execution_count": 73,
   "id": "39592b4b",
   "metadata": {},
   "outputs": [],
   "source": [
    "import numpy as np\n",
    "import matplotlib.pyplot as plt\n",
    "import matplotlib.pyplot as pl"
   ]
  },
  {
   "cell_type": "code",
   "execution_count": 79,
   "id": "a8f6f353",
   "metadata": {},
   "outputs": [],
   "source": [
    "x = np.linspace (0,5,11)\n",
    "y = x**2+1"
   ]
  },
  {
   "cell_type": "code",
   "execution_count": 113,
   "id": "71bf4f96",
   "metadata": {},
   "outputs": [
    {
     "data": {
      "text/plain": [
       "<Figure size 1440x1152 with 0 Axes>"
      ]
     },
     "execution_count": 113,
     "metadata": {},
     "output_type": "execute_result"
    },
    {
     "data": {
      "image/png": "[encoded data removed]",
      "text/plain": [
       "<Figure size 432x288 with 1 Axes>"
      ]
     },
     "metadata": {
      "needs_background": "light"
     },
     "output_type": "display_data"
    },
    {
     "data": {
      "text/plain": [
       "<Figure size 1440x1152 with 0 Axes>"
      ]
     },
     "metadata": {},
     "output_type": "display_data"
    }
   ],
   "source": [
    "pl.plot(x,y,\"b\")\n",
    "pl.plot(x,y,\"ro\")\n",
    "pl.xlabel(\"eixo x (tempo)\")\n",
    "pl.ylabel(\"eixo y (velocidade)\")\n",
    "pl.title(\"aceleração de um móvel\")\n",
    "pl.grid()\n",
    "plt.figure(figsize =(20,16))"
   ]
  },
  {
   "cell_type": "code",
   "execution_count": null,
   "id": "65ca7806",
   "metadata": {},
   "outputs": [],
   "source": []
  },
  {
   "cell_type": "code",
   "execution_count": null,
   "id": "840fbc7e",
   "metadata": {},
   "outputs": [],
   "source": []
  }
 ],
 "metadata": {
  "kernelspec": {
   "display_name": "Python 3",
   "language": "python",
   "name": "python3"
  },
  "language_info": {
   "codemirror_mode": {
    "name": "ipython",
    "version": 3
   },
   "file_extension": ".py",
   "mimetype": "text/x-python",
   "name": "python",
   "nbconvert_exporter": "python",
   "pygments_lexer": "ipython3",
   "version": "3.9.5"
  }
 },
 "nbformat": 4,
 "nbformat_minor": 5
}
